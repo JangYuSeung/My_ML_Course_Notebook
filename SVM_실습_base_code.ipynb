{
  "cells": [
    {
      "cell_type": "markdown",
      "metadata": {
        "id": "view-in-github",
        "colab_type": "text"
      },
      "source": [
        "<a href=\"https://colab.research.google.com/github/JangYuSeung/My_ML_Course_Notebook/blob/main/SVM_%EC%8B%A4%EC%8A%B5_base_code.ipynb\" target=\"_parent\"><img src=\"https://colab.research.google.com/assets/colab-badge.svg\" alt=\"Open In Colab\"/></a>"
      ]
    },
    {
      "cell_type": "markdown",
      "metadata": {
        "id": "_tnyjC0dMNwv"
      },
      "source": [
        "# Support Vector Machine (GD Method)"
      ]
    },
    {
      "cell_type": "code",
      "execution_count": null,
      "metadata": {
        "id": "siEUhNeNMNwx"
      },
      "outputs": [],
      "source": [
        "import pandas as pd\n",
        "import numpy as np\n",
        "import matplotlib.pyplot as plt\n",
        "\n",
        "from sklearn.datasets import make_blobs"
      ]
    },
    {
      "cell_type": "markdown",
      "metadata": {
        "id": "7IzeLkqQMNwy"
      },
      "source": [
        "## Dataset"
      ]
    },
    {
      "cell_type": "code",
      "source": [
        "X, y = make_blobs(n_samples=50, n_features=2, centers=2, cluster_std=1.05, random_state=40)\n",
        "plt.scatter(X[:, 0], X[:, 1], marker='o', c=y, s=100, edgecolor=\"k\", linewidth=1)\n",
        "plt.xlabel(\"x_1\")\n",
        "plt.ylabel(\"x_2\")\n",
        "plt.show()"
      ],
      "metadata": {
        "id": "hSLvwCiulEnB"
      },
      "execution_count": null,
      "outputs": []
    },
    {
      "cell_type": "markdown",
      "source": [
        "## Dataset label 설정"
      ],
      "metadata": {
        "id": "aE2cjndOazir"
      }
    },
    {
      "cell_type": "code",
      "source": [
        "y ="
      ],
      "metadata": {
        "id": "9U3t9HrcZn-f"
      },
      "execution_count": null,
      "outputs": []
    },
    {
      "cell_type": "markdown",
      "metadata": {
        "id": "879Zhc0HMNw0"
      },
      "source": [
        "## Model\n"
      ]
    },
    {
      "cell_type": "code",
      "source": [
        "class SVM:\n",
        "    def __init__(self, learning_rate=0.001, n_iters=1000):\n",
        "        self.learning_rate = learning_rate\n",
        "        self.n_iters = n_iters\n",
        "        self.weights = None  # 가중치 벡터\n",
        "        self.bias = None  # 절편\n",
        "\n",
        "    def fit(self, X, y):\n",
        "        \"\"\"\n",
        "        SVM 모델 학습\n",
        "        - X: 입력 데이터 (data 개수 x feature 개수)\n",
        "        - y: 타겟 레이블 (data 개수만큼 -1 또는 1로 이루어진 배열)\n",
        "        \"\"\"\n",
        "        n_samples, n_features = X.shape # n_samples: 데이터 개수\n",
        "\n",
        "        # Weight 및 bias 초기화\n",
        "        self.weights = np.zeros(n_features)  # 가중치 벡터\n",
        "        self.bias = 0  # 절편\n",
        "\n",
        "        # Gradient Decent\n",
        "\n",
        "\n",
        "    def predict(self, X):\n",
        "        \"\"\"\n",
        "        새로운 데이터에 대한 클래스 예측\n",
        "        - X: 입력 데이터\n",
        "        - 반환값: 예측된 클래스 레이블 (-1 또는 1)\n",
        "        \"\"\"\n",
        "        # 결정 함수: w^T * x + b\n",
        "        linear_output = np.dot(X, self.weights) + self.bias\n",
        "        # sign 함수로 -1 또는 1로 변환\n",
        "        return np.sign(linear_output)\n"
      ],
      "metadata": {
        "id": "ebW5madhO0F1"
      },
      "execution_count": null,
      "outputs": []
    },
    {
      "cell_type": "markdown",
      "metadata": {
        "id": "vXKQC_VhMNw0"
      },
      "source": [
        "## Training"
      ]
    },
    {
      "cell_type": "code",
      "execution_count": null,
      "metadata": {
        "id": "s0_IFAUSMNw1"
      },
      "outputs": [],
      "source": [
        "model = SVM()\n",
        "model.fit(X, y)\n",
        "\n",
        "print(model.weights, model.bias)"
      ]
    },
    {
      "cell_type": "code",
      "source": [
        "margin = 2 / np.sqrt(np.dot(model.weights.T, model.weights))\n",
        "print(margin)"
      ],
      "metadata": {
        "id": "EShCo_IAC_s1"
      },
      "execution_count": null,
      "outputs": []
    },
    {
      "cell_type": "code",
      "execution_count": null,
      "metadata": {
        "id": "5mon8u2dMNw1"
      },
      "outputs": [],
      "source": [
        "def get_hyperplane_value(x, w, b, offset):\n",
        "    return (-w[0] * x - b + offset) / w[1]\n",
        "\n",
        "def visualize_svm(w, b):\n",
        "    fig = plt.figure()\n",
        "    ax = fig.add_subplot(1, 1, 1)\n",
        "    plt.scatter(X[:, 0], X[:, 1], marker=\"o\", c=y)\n",
        "\n",
        "    x0_1 = np.amin(X[:, 0])\n",
        "    x0_2 = np.amax(X[:, 0])\n",
        "\n",
        "    x1_1 = get_hyperplane_value(x0_1, w, b, 0)\n",
        "    x1_2 = get_hyperplane_value(x0_2, w, b, 0)\n",
        "\n",
        "    x1_1_m = get_hyperplane_value(x0_1, w, b, -1)\n",
        "    x1_2_m = get_hyperplane_value(x0_2, w, b, -1)\n",
        "\n",
        "    x1_1_p = get_hyperplane_value(x0_1, w, b, 1)\n",
        "    x1_2_p = get_hyperplane_value(x0_2, w, b, 1)\n",
        "\n",
        "    ax.plot([x0_1, x0_2], [x1_1, x1_2], \"y--\")\n",
        "    ax.plot([x0_1, x0_2], [x1_1_m, x1_2_m], \"k\")\n",
        "    ax.plot([x0_1, x0_2], [x1_1_p, x1_2_p], \"k\")\n",
        "\n",
        "    x1_min = np.amin(X[:, 1])\n",
        "    x1_max = np.amax(X[:, 1])\n",
        "    ax.set_ylim([x1_min - 3, x1_max + 3])\n",
        "    plt.xlabel(\"x_1\")\n",
        "    plt.ylabel(\"x_2\")\n",
        "    plt.show()"
      ]
    },
    {
      "cell_type": "code",
      "execution_count": null,
      "metadata": {
        "id": "eSdGnetTPcCC"
      },
      "outputs": [],
      "source": [
        "visualize_svm(model.weights, model.bias)"
      ]
    },
    {
      "cell_type": "markdown",
      "source": [
        "# SVM 심화\n",
        "\n"
      ],
      "metadata": {
        "id": "VCf22RbtgVZs"
      }
    },
    {
      "cell_type": "code",
      "source": [
        "import pandas as pd\n",
        "import numpy as np\n",
        "import matplotlib.pyplot as plt\n",
        "\n",
        "from sklearn.datasets import make_classification\n",
        "from sklearn.model_selection import train_test_split"
      ],
      "metadata": {
        "id": "jWTB6Qqju3QX"
      },
      "execution_count": null,
      "outputs": []
    },
    {
      "cell_type": "markdown",
      "source": [
        "## Dataset"
      ],
      "metadata": {
        "id": "94D_XQOcu4Zd"
      }
    },
    {
      "cell_type": "code",
      "source": [
        "X, y = make_classification(n_samples=500,\n",
        "                           n_features=2,\n",
        "                           n_classes=3,\n",
        "                           n_clusters_per_class=1,\n",
        "                           n_informative=2,\n",
        "                           n_redundant=0,\n",
        "                           random_state=40)\n",
        "\n",
        "plt.scatter(X[:, 0], X[:, 1], marker='o', c=y, s=100, edgecolor=\"k\", linewidth=1)\n",
        "plt.xlabel(\"x_1\")\n",
        "plt.ylabel(\"x_2\")\n",
        "plt.legend(title=\"Classes\")\n",
        "plt.show()"
      ],
      "metadata": {
        "id": "TGiXWz3KgUk6"
      },
      "execution_count": null,
      "outputs": []
    },
    {
      "cell_type": "markdown",
      "source": [
        "## Model"
      ],
      "metadata": {
        "id": "-EuvWkWPvCPD"
      }
    },
    {
      "cell_type": "code",
      "source": [
        "class SVM:\n",
        "    def __init__(self, learning_rate=0.001, n_iters=1000):\n",
        "        self.learning_rate = learning_rate\n",
        "        self.n_iters = n_iters\n",
        "        self.weights = None  # 가중치 벡터\n",
        "        self.bias = None  # 절편\n",
        "\n",
        "    def fit(self, X, y):\n",
        "        \"\"\"\n",
        "        SVM 모델 학습\n",
        "        - X: 입력 데이터 (data 개수 x feature 개수)\n",
        "        - y: 타겟 레이블 (data 개수만큼 -1 또는 1로 이루어진 배열)\n",
        "        \"\"\"\n",
        "        n_samples, n_features = X.shape # n_samples: 데이터 개수\n",
        "\n",
        "        # Weight 및 bias 초기화\n",
        "        self.weights = np.zeros(n_features)  # 가중치 벡터\n",
        "        self.bias = 0  # 절편\n",
        "\n",
        "        # Gradient Decent\n",
        "\n",
        "\n",
        "    def predict(self, X):\n",
        "        \"\"\"\n",
        "        새로운 데이터에 대한 클래스 예측\n",
        "        - X: 입력 데이터\n",
        "        - 반환값: 예측된 클래스 레이블 (-1 또는 1)\n",
        "        \"\"\"\n",
        "        # 결정 함수: w^T * x + b\n",
        "        linear_output = np.dot(X, self.weights) + self.bias\n",
        "        # sign 함수로 -1 또는 1로 변환\n",
        "        return np.sign(linear_output)\n"
      ],
      "metadata": {
        "id": "6aC60BnzvFX7"
      },
      "execution_count": null,
      "outputs": []
    },
    {
      "cell_type": "markdown",
      "source": [
        "## Training"
      ],
      "metadata": {
        "id": "P2xBdpTQvIpy"
      }
    },
    {
      "cell_type": "code",
      "source": [
        "# model 1\n",
        "model1 = SVM()\n",
        "\n",
        "# model 1 training\n",
        "\n",
        "print(model1.weights, model1.bias)\n",
        "\n",
        "\n",
        "\n",
        "\n",
        "# model 2\n",
        "model2 = SVM()\n",
        "\n",
        "# model 2 training\n",
        "\n",
        "print(model2.weights, model2.bias)\n",
        "\n",
        "\n",
        "\n",
        "\n",
        "# model 3\n",
        "model3 = SVM()\n",
        "\n",
        "# model 3 training\n",
        "\n",
        "print(model3.weights, model3.bias)"
      ],
      "metadata": {
        "id": "cHY-9YWkvPyu"
      },
      "execution_count": null,
      "outputs": []
    },
    {
      "cell_type": "markdown",
      "source": [
        "## 시각화"
      ],
      "metadata": {
        "id": "5F7fhy-lvXyR"
      }
    },
    {
      "cell_type": "code",
      "source": [
        "def get_hyperplane_value(x, w, b, offset):\n",
        "    return (-w[0] * x - b + offset) / w[1]\n",
        "\n",
        "def visualize_svm(w, b, w2, b2, w3, b3):\n",
        "    fig = plt.figure()\n",
        "    ax = fig.add_subplot(1, 1, 1)\n",
        "    plt.scatter(X[:, 0], X[:, 1], marker='o', c=y, s=100, edgecolor=\"k\", linewidth=1)\n",
        "    plt.xlabel(\"x_1\")\n",
        "    plt.ylabel(\"x_2\")\n",
        "\n",
        "    x0_1 = np.amin(X[:, 0])\n",
        "    x0_2 = np.amax(X[:, 0])\n",
        "\n",
        "    x1_1 = get_hyperplane_value(x0_1, w, b, 0)\n",
        "    x1_2 = get_hyperplane_value(x0_2, w, b, 0)\n",
        "\n",
        "    x2_1 = get_hyperplane_value(x0_1, w2, b2, 0)\n",
        "    x2_2 = get_hyperplane_value(x0_2, w2, b2, 0)\n",
        "\n",
        "    x3_1 = get_hyperplane_value(x0_1, w3, b3, 0)\n",
        "    x3_2 = get_hyperplane_value(x0_2, w3, b3, 0)\n",
        "\n",
        "    ax.plot([x0_1, x0_2], [x1_1, x1_2], \"k--\")\n",
        "    ax.plot([x0_1, x0_2], [x2_1, x2_2], \"k--\")\n",
        "    ax.plot([x0_1, x0_2], [x3_1, x3_2], \"k--\")\n",
        "\n",
        "    plt.xlim([np.min(X[:, 0]), np.max(X[:, 0])])\n",
        "    plt.ylim([np.min(X[:, 1]), np.max(X[:, 1])])\n",
        "\n",
        "    plt.legend(loc=(1.01, 0.77), frameon=True, shadow=True)\n",
        "    plt.show()\n",
        "\n",
        "visualize_svm(model1.weights, model1.bias, model2.weights, model2.bias, model3.weights, model3.bias)"
      ],
      "metadata": {
        "id": "ljS-WtszvYwe"
      },
      "execution_count": null,
      "outputs": []
    }
  ],
  "metadata": {
    "colab": {
      "provenance": [],
      "include_colab_link": true
    },
    "kernelspec": {
      "display_name": "Python 3",
      "language": "python",
      "name": "python3"
    },
    "language_info": {
      "codemirror_mode": {
        "name": "ipython",
        "version": 3
      },
      "file_extension": ".py",
      "mimetype": "text/x-python",
      "name": "python",
      "nbconvert_exporter": "python",
      "pygments_lexer": "ipython3",
      "version": "3.11.5"
    },
    "orig_nbformat": 4
  },
  "nbformat": 4,
  "nbformat_minor": 0
}